{
  "nbformat": 4,
  "nbformat_minor": 0,
  "metadata": {
    "colab": {
      "name": "Copy Files (New).ipynb",
      "provenance": [],
      "collapsed_sections": [],
      "include_colab_link": true
    },
    "kernelspec": {
      "display_name": "Python 3",
      "name": "python3"
    },
    "language_info": {
      "name": "python"
    }
  },
  "cells": [
    {
      "cell_type": "markdown",
      "metadata": {
        "id": "view-in-github",
        "colab_type": "text"
      },
      "source": [
        "<a href=\"https://colab.research.google.com/github/k4tipun/CopyFilesGoogleD/blob/main/Copy_Files_to_GoogleD.ipynb\" target=\"_parent\"><img src=\"https://colab.research.google.com/assets/colab-badge.svg\" alt=\"Open In Colab\"/></a>"
      ]
    },
    {
      "cell_type": "markdown",
      "metadata": {
        "id": "a3BWlE52ndRC"
      },
      "source": [
        "# Mount Google Drive"
      ]
    },
    {
      "cell_type": "code",
      "metadata": {
        "id": "SHx1VeX0nYdH"
      },
      "source": [
        "from google.colab import drive\n",
        "drive.mount('/content/drive')"
      ],
      "execution_count": null,
      "outputs": []
    },
    {
      "cell_type": "code",
      "metadata": {
        "id": "UFnUPuGomZTe",
        "cellView": "form"
      },
      "source": [
        "#@markdown <br><center><img src='https://miro.medium.com/max/2036/1*GW4cqNv-SIQ9BGGhssL1bQ.png' height=\"100\" alt=\"netdata\"/></center>\n",
        "#@title <center><b>Time Out Preventer (Advanced) </b></center></strong>\n",
        "%%capture\n",
        "AUTO_RECONNECT = True #@param {type:\"boolean\"}\n",
        "#@markdown **Run this code to prevent Google Colab from Timeout**\n",
        "from os import makedirs\n",
        "makedirs(\"/root/.config/rclone\", exist_ok = True)\n",
        "if AUTO_RECONNECT:\n",
        "  import IPython\n",
        "  from google.colab import output\n",
        "\n",
        "  display(IPython.display.Javascript('''\n",
        "  function ClickConnect(){\n",
        "    btn = document.querySelector(\"colab-connect-button\")\n",
        "    if (btn != null){\n",
        "      console.log(\"Click colab-connect-button\"); \n",
        "      btn.click() \n",
        "      }\n",
        "    \n",
        "    btn = document.getElementById('ok')\n",
        "    if (btn != null){\n",
        "      console.log(\"Click reconnect\"); \n",
        "      btn.click() \n",
        "      }\n",
        "    }\n",
        "    \n",
        "  setInterval(ClickConnect,60000)\n",
        "  '''))"
      ],
      "execution_count": null,
      "outputs": []
    },
    {
      "cell_type": "markdown",
      "metadata": {
        "id": "nQCrcUCnnnOC"
      },
      "source": [
        "# Copy Files"
      ]
    },
    {
      "cell_type": "code",
      "metadata": {
        "cellView": "form",
        "id": "h-FqLWshmeDC"
      },
      "source": [
        "#@title Copy Files to Another Drive\n",
        "import os\n",
        "import shutil\n",
        " \n",
        "src = \"\" #@param {type:\"string\"}\n",
        "dst = \"\" #@param {type:\"string\"}\n",
        " \n",
        "def progress_percentage(perc, width=None):\n",
        "    # This will only work for python 3.3+ due to use of\n",
        "    # os.get_terminal_size the print function etc.\n",
        " \n",
        "    FULL_BLOCK = '█'\n",
        "    # this is a gradient of incompleteness\n",
        "    INCOMPLETE_BLOCK_GRAD = ['░', '▒', '▓']\n",
        " \n",
        "    assert(isinstance(perc, float))\n",
        "    assert(0. <= perc <= 100.)\n",
        "    # if width unset use full terminal\n",
        "    if width is None:\n",
        "        width = os.get_terminal_size().columns\n",
        "    # progress bar is block_widget separator perc_widget : ####### 30%\n",
        "    max_perc_widget = '[100.00%]' # 100% is max\n",
        "    separator = ' '\n",
        "    blocks_widget_width = width - len(separator) - len(max_perc_widget)\n",
        "    assert(blocks_widget_width >= 10) # not very meaningful if not\n",
        "    perc_per_block = 100.0/blocks_widget_width\n",
        "    # epsilon is the sensitivity of rendering a gradient block\n",
        "    epsilon = 1e-6\n",
        "    # number of blocks that should be represented as complete\n",
        "    full_blocks = int((perc + epsilon)/perc_per_block)\n",
        "    # the rest are \"incomplete\"\n",
        "    empty_blocks = blocks_widget_width - full_blocks\n",
        " \n",
        "    # build blocks widget\n",
        "    blocks_widget = ([FULL_BLOCK] * full_blocks)\n",
        "    blocks_widget.extend([INCOMPLETE_BLOCK_GRAD[0]] * empty_blocks)\n",
        "    # marginal case - remainder due to how granular our blocks are\n",
        "    remainder = perc - full_blocks*perc_per_block\n",
        "    # epsilon needed for rounding errors (check would be != 0.)\n",
        "    # based on reminder modify first empty block shading\n",
        "    # depending on remainder\n",
        "    if remainder > epsilon:\n",
        "        grad_index = int((len(INCOMPLETE_BLOCK_GRAD) * remainder)/perc_per_block)\n",
        "        blocks_widget[full_blocks] = INCOMPLETE_BLOCK_GRAD[grad_index]\n",
        " \n",
        "    # build perc widget\n",
        "    str_perc = '%.2f' % perc\n",
        "    # -1 because the percentage sign is not included\n",
        "    perc_widget = '[%s%%]' % str_perc.ljust(len(max_perc_widget) - 3)\n",
        " \n",
        "    # form progressbar\n",
        "    progress_bar = '%s%s%s' % (''.join(blocks_widget), separator, perc_widget)\n",
        "    # return progressbar as string\n",
        "    return ''.join(progress_bar)\n",
        " \n",
        " \n",
        "def copy_progress(copied, total):\n",
        "    print('\\r' + progress_percentage(100*copied/total, width=30), end='')\n",
        " \n",
        " \n",
        "def copyfile(src, dst, *, follow_symlinks=True):\n",
        "    \"\"\"Copy data from src to dst.\n",
        " \n",
        "    If follow_symlinks is not set and src is a symbolic link, a new\n",
        "    symlink will be created instead of copying the file it points to.\n",
        " \n",
        "    \"\"\"\n",
        "    if shutil._samefile(src, dst):\n",
        "        raise shutil.SameFileError(\"{!r} and {!r} are the same file\".format(src, dst))\n",
        " \n",
        "    for fn in [src, dst]:\n",
        "        try:\n",
        "            st = os.stat(fn)\n",
        "        except OSError:\n",
        "            # File most likely does not exist\n",
        "            pass\n",
        "        else:\n",
        "            # XXX What about other special files? (sockets, devices...)\n",
        "            if shutil.stat.S_ISFIFO(st.st_mode):\n",
        "                raise shutil.SpecialFileError(\"`%s` is a named pipe\" % fn)\n",
        " \n",
        "    if not follow_symlinks and os.path.islink(src):\n",
        "        os.symlink(os.readlink(src), dst)\n",
        "    else:\n",
        "        size = os.stat(src).st_size\n",
        "        with open(src, 'rb') as fsrc:\n",
        "            with open(dst, 'wb') as fdst:\n",
        "                copyfileobj(fsrc, fdst, callback=copy_progress, total=size)\n",
        "    return dst\n",
        " \n",
        " \n",
        "def copyfileobj(fsrc, fdst, callback, total, length=16*1024):\n",
        "    copied = 0\n",
        "    while True:\n",
        "        buf = fsrc.read(length)\n",
        "        if not buf:\n",
        "            break\n",
        "        fdst.write(buf)\n",
        "        copied += len(buf)\n",
        "        callback(copied, total=total)\n",
        " \n",
        " \n",
        "def copy_with_progress(src, dst, *, follow_symlinks=True):\n",
        "    if os.path.isdir(dst):\n",
        "        dst = os.path.join(dst, os.path.basename(src))\n",
        "    copyfile(src, dst, follow_symlinks=follow_symlinks)\n",
        "    shutil.copymode(src, dst)\n",
        "    return dst\n",
        " \n",
        "file_count = sum(len(files) for _, _, files in os.walk(src))\n",
        "print(\"Total files to be copied:\", file_count)\n",
        " \n",
        "print(\"Copying files\")\n",
        "print(\"Please wait...\")\n",
        " \n",
        "shutil.rmtree(dst, ignore_errors=True)\n",
        "shutil.copytree(src, dst, copy_function = copy_with_progress)\n",
        " \n",
        "print(\" \")\n",
        "print(\"Copying complete.\")\n",
        " \n",
        "file_count2 = sum(len(files) for _, _, files in os.walk(dst))\n",
        "print(\"Total files copied:\", file_count2)"
      ],
      "execution_count": null,
      "outputs": []
    }
  ]
}